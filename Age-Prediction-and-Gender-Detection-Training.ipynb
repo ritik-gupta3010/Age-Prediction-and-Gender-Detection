{
 "cells": [
  {
   "cell_type": "code",
   "execution_count": 2,
   "id": "78c17add",
   "metadata": {},
   "outputs": [],
   "source": [
    "import cv2\n",
    "import matplotlib.pyplot as plt\n",
    "import numpy as np"
   ]
  },
  {
   "cell_type": "markdown",
   "id": "794bbc87",
   "metadata": {},
   "source": [
    "# Read Dataset of Age and Gender"
   ]
  },
  {
   "cell_type": "code",
   "execution_count": null,
   "id": "42e48ef2",
   "metadata": {},
   "outputs": [],
   "source": [
    "image = cv2.imread(input_img)"
   ]
  },
  {
   "cell_type": "code",
   "execution_count": null,
   "id": "4d3cb9c5",
   "metadata": {},
   "outputs": [],
   "source": [
    "plt.imshow(img[:,:,::-1])"
   ]
  },
  {
   "cell_type": "code",
   "execution_count": null,
   "id": "47fc856b",
   "metadata": {},
   "outputs": [],
   "source": [
    "detector_path = \"C:/Users/saijalgupta/Anaconda3/Lib/site-packages/cv2/data/haarcascade_frontalface_default.xml\"\n",
    "detector = cv2.CascadeClassifier(detector_path)"
   ]
  },
  {
   "cell_type": "code",
   "execution_count": null,
   "id": "36107443",
   "metadata": {},
   "outputs": [],
   "source": [
    "faces = detector.detectMultiScale(img,1.2,5)\n",
    "faces"
   ]
  },
  {
   "cell_type": "code",
   "execution_count": null,
   "id": "06f57c45",
   "metadata": {},
   "outputs": [],
   "source": [
    "x, y, w, h = faces[0]"
   ]
  },
  {
   "cell_type": "code",
   "execution_count": null,
   "id": "b00df754",
   "metadata": {},
   "outputs": [],
   "source": [
    "detected_face = img[int(y):int(y+h),int(x):int(x+w)]"
   ]
  },
  {
   "cell_type": "code",
   "execution_count": null,
   "id": "141c8dae",
   "metadata": {},
   "outputs": [],
   "source": [
    "detected_face = cv2.resize(detected_face,(224,224))"
   ]
  },
  {
   "cell_type": "code",
   "execution_count": null,
   "id": "8629b87e",
   "metadata": {},
   "outputs": [],
   "source": [
    "detected_face.shape"
   ]
  },
  {
   "cell_type": "code",
   "execution_count": null,
   "id": "b12d814e",
   "metadata": {},
   "outputs": [],
   "source": [
    "plt.imshow(detected_face)"
   ]
  },
  {
   "cell_type": "code",
   "execution_count": null,
   "id": "f392a0db",
   "metadata": {},
   "outputs": [],
   "source": [
    "detected_face_blob =cv2.dnn.blobFromImage(detected_face)"
   ]
  },
  {
   "cell_type": "code",
   "execution_count": null,
   "id": "869828e1",
   "metadata": {},
   "outputs": [],
   "source": [
    "detected_face_blob.shape"
   ]
  },
  {
   "cell_type": "code",
   "execution_count": null,
   "id": "32ba16f2",
   "metadata": {},
   "outputs": [],
   "source": [
    "age_model.setInput(detected_face_blob)\n",
    "age_result = age_model.forward()\n",
    "\n",
    "gender_model.setInput(detected_face_blob)\n",
    "gender_result = gender_model.forward()"
   ]
  },
  {
   "cell_type": "code",
   "execution_count": null,
   "id": "245a56cc",
   "metadata": {},
   "outputs": [],
   "source": [
    "gender_result"
   ]
  },
  {
   "cell_type": "code",
   "execution_count": null,
   "id": "88151d9c",
   "metadata": {},
   "outputs": [],
   "source": [
    "np.argmax(gender_result[0])"
   ]
  },
  {
   "cell_type": "markdown",
   "id": "869a276a",
   "metadata": {},
   "source": [
    "# for women the index is 0"
   ]
  },
  {
   "cell_type": "code",
   "execution_count": null,
   "id": "f40c3198",
   "metadata": {},
   "outputs": [],
   "source": [
    "if(np.argmax(gender_result[0]) == 0):\n",
    "    a = \"women\"\n",
    "else:\n",
    "    a = \"men\""
   ]
  },
  {
   "cell_type": "code",
   "execution_count": null,
   "id": "f8ae37a0",
   "metadata": {},
   "outputs": [],
   "source": [
    "age_result"
   ]
  },
  {
   "cell_type": "code",
   "execution_count": null,
   "id": "6ae8ea16",
   "metadata": {},
   "outputs": [],
   "source": [
    "len(age_result[0])"
   ]
  },
  {
   "cell_type": "code",
   "execution_count": null,
   "id": "e5cdffd2",
   "metadata": {},
   "outputs": [],
   "source": [
    "indexes = np.array([i for i in range (0,101)])"
   ]
  },
  {
   "cell_type": "markdown",
   "id": "2c9e7a5f",
   "metadata": {},
   "source": [
    "# we deal with age value one by one by call them indexes"
   ]
  },
  {
   "cell_type": "code",
   "execution_count": null,
   "id": "55d72387",
   "metadata": {},
   "outputs": [],
   "source": [
    "apparent_age = round(np.sum(age_result[0] * indexes))"
   ]
  },
  {
   "cell_type": "code",
   "execution_count": null,
   "id": "83d76f67",
   "metadata": {},
   "outputs": [],
   "source": [
    "b = apparent_age"
   ]
  },
  {
   "cell_type": "code",
   "execution_count": null,
   "id": "6516e994",
   "metadata": {},
   "outputs": [],
   "source": [
    "print(\"                     (\",a,\",\",b,\")\")\n",
    "print(\"given input image of -->\",a,\"who is-->\",b,'year_old')"
   ]
  },
  {
   "cell_type": "markdown",
   "id": "a1a99488",
   "metadata": {},
   "source": [
    "# Testing"
   ]
  },
  {
   "cell_type": "code",
   "execution_count": null,
   "id": "6b0fc656",
   "metadata": {},
   "outputs": [],
   "source": []
  }
 ],
 "metadata": {
  "kernelspec": {
   "display_name": "Python 3 (ipykernel)",
   "language": "python",
   "name": "python3"
  },
  "language_info": {
   "codemirror_mode": {
    "name": "ipython",
    "version": 3
   },
   "file_extension": ".py",
   "mimetype": "text/x-python",
   "name": "python",
   "nbconvert_exporter": "python",
   "pygments_lexer": "ipython3",
   "version": "3.8.1"
  }
 },
 "nbformat": 4,
 "nbformat_minor": 5
}
