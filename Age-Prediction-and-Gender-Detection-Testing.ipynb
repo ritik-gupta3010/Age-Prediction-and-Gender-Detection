{
 "cells": [
  {
   "cell_type": "code",
   "execution_count": null,
   "id": "d7537a1b",
   "metadata": {},
   "outputs": [],
   "source": [
    "import cv2\n",
    "age_model = cv2.dnn.readNetFromCaffe(\"age.prototxt\",\"dex_imdb_wiki.caffemodel\")\n",
    "gender_model= cv2.dnn.readNetFromCaffe(\"gender.prototxt\",\"gender.caffemodel\")"
   ]
  },
  {
   "cell_type": "markdown",
   "id": "729f7354",
   "metadata": {},
   "source": [
    "# testing image 1"
   ]
  },
  {
   "cell_type": "code",
   "execution_count": null,
   "id": "979da9fb",
   "metadata": {},
   "outputs": [],
   "source": [
    "input_img = 'C:/Users/saijalgupta/OneDrive/Desktop/testing/saijal.jpg'"
   ]
  },
  {
   "cell_type": "code",
   "execution_count": null,
   "id": "9384c909",
   "metadata": {},
   "outputs": [],
   "source": [
    "%run \"age_and_gender.ipynb\""
   ]
  },
  {
   "cell_type": "markdown",
   "id": "826b8b69",
   "metadata": {},
   "source": [
    "# testing image 2"
   ]
  },
  {
   "cell_type": "code",
   "execution_count": null,
   "id": "ce0d033a",
   "metadata": {},
   "outputs": [],
   "source": [
    "input_img = 'C:/Users/saijalgupta/OneDrive/Desktop/testing/saijal1.jpg'"
   ]
  },
  {
   "cell_type": "code",
   "execution_count": null,
   "id": "34c7f81d",
   "metadata": {},
   "outputs": [],
   "source": [
    "%run \"age_and_gender.ipynb\""
   ]
  },
  {
   "cell_type": "code",
   "execution_count": null,
   "id": "99f54967",
   "metadata": {},
   "outputs": [],
   "source": []
  }
 ],
 "metadata": {
  "kernelspec": {
   "display_name": "Python 3 (ipykernel)",
   "language": "python",
   "name": "python3"
  },
  "language_info": {
   "codemirror_mode": {
    "name": "ipython",
    "version": 3
   },
   "file_extension": ".py",
   "mimetype": "text/x-python",
   "name": "python",
   "nbconvert_exporter": "python",
   "pygments_lexer": "ipython3",
   "version": "3.8.1"
  }
 },
 "nbformat": 4,
 "nbformat_minor": 5
}
